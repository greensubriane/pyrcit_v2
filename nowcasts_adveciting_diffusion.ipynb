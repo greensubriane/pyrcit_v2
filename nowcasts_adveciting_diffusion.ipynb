{
 "cells": [
  {
   "cell_type": "code",
   "execution_count": 1,
   "id": "b4b799b9",
   "metadata": {},
   "outputs": [],
   "source": [
    "import numpy as np\n",
    "import csv\n",
    "import copy\n",
    "\n",
    "from rcit.util.pre_process.pre_process import isolate_echo_remove\n",
    "from rcit.motion.piv_motion import particle_image_velocimetry\n",
    "from rcit.motion.piv_motion import burgers_equation_2D\n",
    "from rcit.radar_data_io.read_dx_data import read_dwd_dx_radar_data\n",
    "\n",
    "from rcit.util.pre_process.pre_process import input_filter\n"
   ]
  },
  {
   "cell_type": "code",
   "execution_count": 2,
   "id": "02ce89cd",
   "metadata": {},
   "outputs": [],
   "source": [
    "def write_csv(csv_path, M):\n",
    "    with open(csv_path, 'w', encoding='utf-8', newline='') as csvfile:\n",
    "        csv_writer = csv.writer(csvfile)\n",
    "        csv_writer.writerows(M)"
   ]
  },
  {
   "cell_type": "code",
   "execution_count": 3,
   "id": "5d328ed0",
   "metadata": {},
   "outputs": [],
   "source": [
    "# set forecast dataset, totally we choose 27 radar images, the first three is used for global motion calculation, \n",
    "# and the next 24 is used for 2-hr nowcasting and correspondly verification\n",
    "# 2007-05-26, 0-27(00:00); 226-253(18:50); 244-271(20:20); 252-279(21:00). \n",
    "# 2008-07-19 192-219(16:00); \n",
    "# 2008-07-26 0-27(00:00); 192-219(16:00); 217-244(18:05).\n",
    "\n",
    "f = open(\"./080719/ein_bild.dat\")\n",
    "lines = f.readlines()\n",
    "lines1 = lines[192:219]\n",
    "radar_images = np.full((27, 256, 256), np.nan)\n",
    "radar_images_filtered = np.full((27, 256, 256), np.nan)\n",
    "radar_images_intensities = np.full((27, 256, 256), np.nan)\n"
   ]
  },
  {
   "cell_type": "code",
   "execution_count": 4,
   "id": "67313cc5",
   "metadata": {},
   "outputs": [
    {
     "name": "stdout",
     "output_type": "stream",
     "text": [
      "0807191600\n",
      "dx0807191600.ess\n"
     ]
    },
    {
     "name": "stderr",
     "output_type": "stream",
     "text": [
      "/Users/heting/miniconda3/envs/pyrcit/lib/python3.11/site-packages/wradlib/trafo.py:261: RuntimeWarning: overflow encountered in power\n",
      "  return 10.0 ** (x / 10.0)\n"
     ]
    },
    {
     "name": "stdout",
     "output_type": "stream",
     "text": [
      "0807191605\n",
      "dx0807191605.ess\n",
      "0807191610\n",
      "dx0807191610.ess\n",
      "0807191615\n",
      "dx0807191615.ess\n",
      "0807191620\n",
      "dx0807191620.ess\n",
      "0807191625\n",
      "dx0807191625.ess\n",
      "0807191630\n",
      "dx0807191630.ess\n",
      "0807191635\n",
      "dx0807191635.ess\n",
      "0807191640\n",
      "dx0807191640.ess\n",
      "0807191645\n",
      "dx0807191645.ess\n",
      "0807191650\n",
      "dx0807191650.ess\n",
      "0807191655\n",
      "dx0807191655.ess\n",
      "0807191700\n",
      "dx0807191700.ess\n",
      "0807191705\n",
      "dx0807191705.ess\n",
      "0807191710\n",
      "dx0807191710.ess\n",
      "0807191715\n",
      "dx0807191715.ess\n",
      "0807191720\n",
      "dx0807191720.ess\n",
      "0807191725\n",
      "dx0807191725.ess\n",
      "0807191730\n",
      "dx0807191730.ess\n",
      "0807191735\n",
      "dx0807191735.ess\n",
      "0807191740\n",
      "dx0807191740.ess\n",
      "0807191745\n",
      "dx0807191745.ess\n",
      "0807191750\n",
      "dx0807191750.ess\n",
      "0807191755\n",
      "dx0807191755.ess\n",
      "0807191800\n",
      "dx0807191800.ess\n",
      "0807191805\n",
      "dx0807191805.ess\n",
      "0807191810\n",
      "dx0807191810.ess\n"
     ]
    }
   ],
   "source": [
    "# excuation of segmentation pocedure for the selected radar images\n",
    "t = 0\n",
    "\n",
    "for lines2 in lines1:\n",
    "    line = lines2.split('\\n')\n",
    "    line1 = lines2.split('.ess\\n')\n",
    "    print(line1[0][2:])\n",
    "    print(line[0])\n",
    "\n",
    "    reflectivity, intensity = read_dwd_dx_radar_data(\"./080719/\" + line[0], 6.96454, 51.40643, 152, 128000)\n",
    "    origin_ref, filter_ref = input_filter(reflectivity, 'cf')\n",
    "    origin_intensity, filter_intensity = input_filter(intensity, 'cf')\n",
    "    filter_intensity[np.isnan(filter_intensity)] = 0\n",
    "    intensity[np.isnan(intensity)] = 0\n",
    "    filter_intensity_1 = copy.deepcopy(filter_intensity)\n",
    "    \n",
    "    radar_images[t, :, :] = reflectivity\n",
    "    radar_images_filtered[t, :, :] = filter_intensity_1\n",
    "    \n",
    "    t += 1"
   ]
  },
  {
   "cell_type": "code",
   "execution_count": null,
   "id": "9134bbae",
   "metadata": {},
   "outputs": [],
   "source": [
    "input_t1 = isolate_echo_remove(radar_images_filtered[1], n=3, thr=np.min(radar_images_filtered[1])) \n",
    "input_t2 = isolate_echo_remove(radar_images_filtered[2], n=3, thr=np.min(radar_images_filtered[2]))\n",
    "loc_x, loc_y, u_filt, v_filt = particle_image_velocimetry(input_t1, input_t2, 16, 16, 0.5, 0.5, 5, 5, 0.1)\n",
    "print(loc_x) \n",
    "print(loc_y)"
   ]
  },
  {
   "cell_type": "code",
   "execution_count": null,
   "id": "7362eaf7",
   "metadata": {},
   "outputs": [],
   "source": [
    "Interval = 1\n",
    "C = 0.1\n",
    "nu = 0.2\n",
    "X = loc_x\n",
    "Y = loc_y\n",
    "T = np.linspace(0, 23, 24)\n",
    "Zx = u_filt\n",
    "Zy = v_filt\n",
    "\n",
    "write_csv(\"./results/init_u_motion.csv\", u_filt)\n",
    "write_csv(\"./results/init_v_motion.csv\", v_filt)\n",
    "\n",
    "u, v, w = burgers_equation_2D(X, Y, Zx, Zy, T, nu)\n",
    "\n",
    "for i in range(24):\n",
    "    write_csv(\"./results/motion_\"+str((i+1)*5)+\"min.csv\", w[i])\n",
    "    write_csv(\"./results/u_\"+str((i+1)*5)+\"min.csv\", u[i])\n",
    "    write_csv(\"./results/v_\"+str((i+1)*5)+\"min.csv\", v[i])"
   ]
  },
  {
   "cell_type": "code",
   "execution_count": null,
   "id": "f753ff88",
   "metadata": {},
   "outputs": [],
   "source": []
  }
 ],
 "metadata": {
  "kernelspec": {
   "display_name": "Python 3 (ipykernel)",
   "language": "python",
   "name": "python3"
  },
  "language_info": {
   "codemirror_mode": {
    "name": "ipython",
    "version": 3
   },
   "file_extension": ".py",
   "mimetype": "text/x-python",
   "name": "python",
   "nbconvert_exporter": "python",
   "pygments_lexer": "ipython3",
   "version": "3.11.4"
  }
 },
 "nbformat": 4,
 "nbformat_minor": 5
}
